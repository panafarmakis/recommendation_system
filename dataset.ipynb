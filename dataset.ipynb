{
 "cells": [
  {
   "cell_type": "code",
   "execution_count": null,
   "metadata": {},
   "outputs": [
    {
     "name": "stdout",
     "output_type": "stream",
     "text": [
      "You are using device: cpu\n",
      "Dataset: MovieLens()\n",
      "Number of graphs in dataset: 1\n",
      "Number of features of dataset: {'movie': 404, 'user': 0}\n"
     ]
    }
   ],
   "source": [
    "from torch_geometric.datasets import AmazonBook, MovieLens\n",
    "from torch_geometric.transforms import Compose, ToDevice, ToUndirected\n",
    "import torch\n",
    "from torch_geometric.data import Data\n",
    "import torch\n",
    "from torch_geometric.utils import train_test_split_edges\n",
    "from torch_sparse import SparseTensor\n",
    "\n",
    "device = torch.device('cuda' if torch.cuda.is_available() else 'cpu')\n",
    "print(\"You are using device: %s\" % device)\n",
    "transform = Compose([ToDevice(device)])\n",
    "movielens_dataset = MovieLens(root=\"./data/MovieLens\", transform=transform, model_name='all-MiniLM-L6-v2')\n",
    "print(f\"Dataset: {movielens_dataset}\")\n",
    "print(f\"Number of graphs in dataset: {len(movielens_dataset)}\")\n",
    "print(f\"Number of features of dataset: {movielens_dataset.num_features}\")"
   ]
  },
  {
   "cell_type": "code",
   "execution_count": 2,
   "metadata": {},
   "outputs": [
    {
     "name": "stdout",
     "output_type": "stream",
     "text": [
      "Using device: cpu\n",
      "\n",
      "=== Dataset Overview ===\n",
      "Dataset: MovieLens()\n",
      "Number of graphs: 1\n",
      "\n",
      "=== Graph Structure ===\n",
      "Node types: ['movie', 'user']\n",
      "Edge types: [('user', 'rates', 'movie')]\n",
      "\n",
      "=== Node Information ===\n",
      "Number of users: 610\n",
      "Number of movies: 9742\n",
      "Movie feature dimension: 404\n",
      "User feature dimension: No features\n",
      "\n",
      "=== Edge Information ===\n",
      "Number of ratings: 100836\n",
      "Rating range: [0.0, 5.0]\n",
      "\n",
      "=== Rating Distribution ===\n",
      "Rating 0.5: 0 ratings\n",
      "Rating 1.0: 4602 ratings\n",
      "Rating 1.5: 0 ratings\n",
      "Rating 2.0: 13101 ratings\n",
      "Rating 2.5: 0 ratings\n",
      "Rating 3.0: 33183 ratings\n",
      "Rating 3.5: 0 ratings\n",
      "Rating 4.0: 35369 ratings\n",
      "Rating 4.5: 0 ratings\n",
      "Rating 5.0: 13211 ratings\n",
      "\n",
      "=== Device Information ===\n",
      "Data is on: CPU\n",
      "\n",
      "=== Filtered Data for LightGCN ===\n",
      "Original number of edges: 100836\n",
      "Filtered edges (ratings >= 4.0): 48580\n",
      "Percentage of positive interactions: 48.18%\n",
      "\n",
      "=== Model Parameters ===\n",
      "Number of users: 610\n",
      "Number of movies: 9742\n",
      "Embedding dimension: 64\n"
     ]
    }
   ],
   "source": [
    "import torch\n",
    "from torch_geometric.datasets import MovieLens\n",
    "from torch_geometric.transforms import Compose, ToDevice, ToUndirected\n",
    "\n",
    "# Set up device\n",
    "device = torch.device('cuda' if torch.cuda.is_available() else 'cpu')\n",
    "print(f\"Using device: {device}\")\n",
    "\n",
    "# Create transform pipeline\n",
    "transform = Compose([\n",
    "    ToDevice(device),  # Move data to GPU if available\n",
    "])\n",
    "\n",
    "# Load MovieLens dataset\n",
    "movielens_dataset = MovieLens(\n",
    "    root=\"./data/MovieLens\",\n",
    "    transform=transform,\n",
    "    model_name='all-MiniLM-L6-v2'  # This model will be used to create movie features\n",
    ")\n",
    "\n",
    "# Basic dataset information\n",
    "print(\"\\n=== Dataset Overview ===\")\n",
    "print(f\"Dataset: {movielens_dataset}\")\n",
    "print(f\"Number of graphs: {len(movielens_dataset)}\")\n",
    "\n",
    "# Get the first (and only) graph\n",
    "data = movielens_dataset[0]\n",
    "\n",
    "# Detailed graph information\n",
    "print(\"\\n=== Graph Structure ===\")\n",
    "print(f\"Node types: {data.node_types}\")  # Should show ['movie', 'user']\n",
    "print(f\"Edge types: {data.edge_types}\")  # Should show [('user', 'rates', 'movie')]\n",
    "\n",
    "# Get specific node information\n",
    "print(\"\\n=== Node Information ===\")\n",
    "print(f\"Number of users: {data['user'].num_nodes}\")\n",
    "print(f\"Number of movies: {data['movie'].num_nodes}\")\n",
    "print(f\"Movie feature dimension: {data['movie'].x.size(1)}\")  # From sentence transformer\n",
    "print(f\"User feature dimension: {data['user'].x.size(1) if 'x' in data['user'] else 'No features'}\")\n",
    "\n",
    "# Get edge information\n",
    "print(\"\\n=== Edge Information ===\")\n",
    "edge_index = data[('user', 'rates', 'movie')].edge_index\n",
    "ratings = data[('user', 'rates', 'movie')].edge_label\n",
    "print(f\"Number of ratings: {ratings.size(0)}\")\n",
    "print(f\"Rating range: [{ratings.min():.1f}, {ratings.max():.1f}]\")\n",
    "\n",
    "# Rating distribution\n",
    "print(\"\\n=== Rating Distribution ===\")\n",
    "for rating in torch.arange(0.5, 5.5, 0.5):\n",
    "    count = (ratings == rating).sum().item()\n",
    "    print(f\"Rating {rating:.1f}: {count} ratings\")\n",
    "\n",
    "# Device information\n",
    "print(\"\\n=== Device Information ===\")\n",
    "print(f\"Data is on: {'CUDA' if data.is_cuda else 'CPU'}\")\n",
    "\n",
    "# Let's prepare the data for LightGCN\n",
    "# Filter ratings >= 4 for positive interactions\n",
    "mask = ratings >= 4.0\n",
    "filtered_edge_index = edge_index[:, mask]\n",
    "filtered_ratings = ratings[mask]\n",
    "\n",
    "print(\"\\n=== Filtered Data for LightGCN ===\")\n",
    "print(f\"Original number of edges: {ratings.size(0)}\")\n",
    "print(f\"Filtered edges (ratings >= 4.0): {filtered_ratings.size(0)}\")\n",
    "print(f\"Percentage of positive interactions: {(filtered_ratings.size(0)/ratings.size(0)*100):.2f}%\")\n",
    "\n",
    "# Save important values for model initialization\n",
    "num_users = data['user'].num_nodes\n",
    "num_movies = data['movie'].num_nodes\n",
    "embedding_dim = 64  # You can adjust this\n",
    "\n",
    "print(\"\\n=== Model Parameters ===\")\n",
    "print(f\"Number of users: {num_users}\")\n",
    "print(f\"Number of movies: {num_movies}\")\n",
    "print(f\"Embedding dimension: {embedding_dim}\")"
   ]
  },
  {
   "cell_type": "code",
   "execution_count": 3,
   "metadata": {},
   "outputs": [
    {
     "name": "stdout",
     "output_type": "stream",
     "text": [
      "Movies Sample:\n",
      "   movieId                               title  \\\n",
      "0        1                    Toy Story (1995)   \n",
      "1        2                      Jumanji (1995)   \n",
      "2        3             Grumpier Old Men (1995)   \n",
      "3        4            Waiting to Exhale (1995)   \n",
      "4        5  Father of the Bride Part II (1995)   \n",
      "\n",
      "                                        genres  \n",
      "0  Adventure|Animation|Children|Comedy|Fantasy  \n",
      "1                   Adventure|Children|Fantasy  \n",
      "2                               Comedy|Romance  \n",
      "3                         Comedy|Drama|Romance  \n",
      "4                                       Comedy  \n",
      "\n",
      "Ratings Sample:\n",
      "   userId  movieId  rating  timestamp\n",
      "0       1        1     4.0  964982703\n",
      "1       1        3     4.0  964981247\n",
      "2       1        6     4.0  964982224\n",
      "3       1       47     5.0  964983815\n",
      "4       1       50     5.0  964982931\n"
     ]
    }
   ],
   "source": [
    "import pandas as pd\n",
    "\n",
    "# Read the CSV files\n",
    "movies_df = pd.read_csv('data/MovieLens/raw/ml-latest-small/movies.csv')\n",
    "ratings_df = pd.read_csv('data/MovieLens/raw/ml-latest-small/ratings.csv')\n",
    "links_df = pd.read_csv('data/MovieLens/raw/ml-latest-small/links.csv')\n",
    "tags_df = pd.read_csv('data/MovieLens/raw/ml-latest-small/tags.csv')\n",
    "\n",
    "print(\"Movies Sample:\")\n",
    "print(movies_df.head())\n",
    "print(\"\\nRatings Sample:\")\n",
    "print(ratings_df.head())"
   ]
  },
  {
   "cell_type": "code",
   "execution_count": 4,
   "metadata": {},
   "outputs": [],
   "source": [
    "dataset = MovieLens(root='data/MovieLens')\n",
    "data = dataset[0]\n",
    "edge_index = data[('user', 'rates', 'movie')].edge_index "
   ]
  },
  {
   "cell_type": "code",
   "execution_count": 5,
   "metadata": {},
   "outputs": [
    {
     "name": "stdout",
     "output_type": "stream",
     "text": [
      "tensor([[   0,    0,    0,  ...,  609,  609,  609],\n",
      "        [   0,    2,    5,  ..., 9462, 9463, 9503]])\n"
     ]
    }
   ],
   "source": [
    "# we have a problem here: Notice that the \n",
    "print(edge_index)"
   ]
  },
  {
   "cell_type": "code",
   "execution_count": 6,
   "metadata": {},
   "outputs": [
    {
     "name": "stdout",
     "output_type": "stream",
     "text": [
      "tensor([[  0,   0,   0,   0,   0,   0,   0,   0,   0,   0],\n",
      "        [  0,   2,   5,  43,  46,  62,  89,  97, 124, 130]])\n"
     ]
    }
   ],
   "source": [
    "print(edge_index[:, :10]) \n"
   ]
  },
  {
   "cell_type": "code",
   "execution_count": 7,
   "metadata": {},
   "outputs": [
    {
     "data": {
      "text/html": [
       "<div>\n",
       "<style scoped>\n",
       "    .dataframe tbody tr th:only-of-type {\n",
       "        vertical-align: middle;\n",
       "    }\n",
       "\n",
       "    .dataframe tbody tr th {\n",
       "        vertical-align: top;\n",
       "    }\n",
       "\n",
       "    .dataframe thead th {\n",
       "        text-align: right;\n",
       "    }\n",
       "</style>\n",
       "<table border=\"1\" class=\"dataframe\">\n",
       "  <thead>\n",
       "    <tr style=\"text-align: right;\">\n",
       "      <th></th>\n",
       "      <th>userId</th>\n",
       "      <th>movieId</th>\n",
       "      <th>rating</th>\n",
       "      <th>timestamp</th>\n",
       "    </tr>\n",
       "  </thead>\n",
       "  <tbody>\n",
       "    <tr>\n",
       "      <th>0</th>\n",
       "      <td>1</td>\n",
       "      <td>1</td>\n",
       "      <td>4.0</td>\n",
       "      <td>964982703</td>\n",
       "    </tr>\n",
       "    <tr>\n",
       "      <th>1</th>\n",
       "      <td>1</td>\n",
       "      <td>3</td>\n",
       "      <td>4.0</td>\n",
       "      <td>964981247</td>\n",
       "    </tr>\n",
       "    <tr>\n",
       "      <th>2</th>\n",
       "      <td>1</td>\n",
       "      <td>6</td>\n",
       "      <td>4.0</td>\n",
       "      <td>964982224</td>\n",
       "    </tr>\n",
       "    <tr>\n",
       "      <th>3</th>\n",
       "      <td>1</td>\n",
       "      <td>47</td>\n",
       "      <td>5.0</td>\n",
       "      <td>964983815</td>\n",
       "    </tr>\n",
       "    <tr>\n",
       "      <th>4</th>\n",
       "      <td>1</td>\n",
       "      <td>50</td>\n",
       "      <td>5.0</td>\n",
       "      <td>964982931</td>\n",
       "    </tr>\n",
       "    <tr>\n",
       "      <th>...</th>\n",
       "      <td>...</td>\n",
       "      <td>...</td>\n",
       "      <td>...</td>\n",
       "      <td>...</td>\n",
       "    </tr>\n",
       "    <tr>\n",
       "      <th>100831</th>\n",
       "      <td>610</td>\n",
       "      <td>166534</td>\n",
       "      <td>4.0</td>\n",
       "      <td>1493848402</td>\n",
       "    </tr>\n",
       "    <tr>\n",
       "      <th>100832</th>\n",
       "      <td>610</td>\n",
       "      <td>168248</td>\n",
       "      <td>5.0</td>\n",
       "      <td>1493850091</td>\n",
       "    </tr>\n",
       "    <tr>\n",
       "      <th>100833</th>\n",
       "      <td>610</td>\n",
       "      <td>168250</td>\n",
       "      <td>5.0</td>\n",
       "      <td>1494273047</td>\n",
       "    </tr>\n",
       "    <tr>\n",
       "      <th>100834</th>\n",
       "      <td>610</td>\n",
       "      <td>168252</td>\n",
       "      <td>5.0</td>\n",
       "      <td>1493846352</td>\n",
       "    </tr>\n",
       "    <tr>\n",
       "      <th>100835</th>\n",
       "      <td>610</td>\n",
       "      <td>170875</td>\n",
       "      <td>3.0</td>\n",
       "      <td>1493846415</td>\n",
       "    </tr>\n",
       "  </tbody>\n",
       "</table>\n",
       "<p>100836 rows × 4 columns</p>\n",
       "</div>"
      ],
      "text/plain": [
       "        userId  movieId  rating   timestamp\n",
       "0            1        1     4.0   964982703\n",
       "1            1        3     4.0   964981247\n",
       "2            1        6     4.0   964982224\n",
       "3            1       47     5.0   964983815\n",
       "4            1       50     5.0   964982931\n",
       "...        ...      ...     ...         ...\n",
       "100831     610   166534     4.0  1493848402\n",
       "100832     610   168248     5.0  1493850091\n",
       "100833     610   168250     5.0  1494273047\n",
       "100834     610   168252     5.0  1493846352\n",
       "100835     610   170875     3.0  1493846415\n",
       "\n",
       "[100836 rows x 4 columns]"
      ]
     },
     "execution_count": 7,
     "metadata": {},
     "output_type": "execute_result"
    }
   ],
   "source": [
    "import pandas as pd \n",
    "ratings_df = pd.read_csv('data/MovieLens/raw/ml-latest-small/ratings.csv')\n",
    "ratings_df"
   ]
  },
  {
   "cell_type": "code",
   "execution_count": 8,
   "metadata": {},
   "outputs": [],
   "source": [
    "user_ids, user_mapping = pd.factorize(ratings_df['userId'])\n",
    "movie_ids, movie_mapping = pd.factorize(ratings_df['movieId'])"
   ]
  },
  {
   "cell_type": "code",
   "execution_count": 9,
   "metadata": {},
   "outputs": [],
   "source": [
    "ratings_df['user_idx'] = user_ids\n",
    "ratings_df['movie_idx'] = movie_ids"
   ]
  },
  {
   "cell_type": "code",
   "execution_count": 10,
   "metadata": {},
   "outputs": [],
   "source": [
    "ratings_df['positive'] = (ratings_df['rating'] >= 4).astype(int)\n"
   ]
  },
  {
   "cell_type": "code",
   "execution_count": 11,
   "metadata": {},
   "outputs": [
    {
     "name": "stdout",
     "output_type": "stream",
     "text": [
      "Original vs Mapped IDs (first 5 rows):\n",
      "   userId  user_idx  movieId  movie_idx  rating  positive\n",
      "0       1         0        1          0     4.0         1\n",
      "1       1         0        3          1     4.0         1\n",
      "2       1         0        6          2     4.0         1\n",
      "3       1         0       47          3     5.0         1\n",
      "4       1         0       50          4     5.0         1\n",
      "\n",
      "Number of unique users: 610\n",
      "Number of unique movies: 9724\n"
     ]
    }
   ],
   "source": [
    "print(\"Original vs Mapped IDs (first 5 rows):\")\n",
    "print(ratings_df[['userId', 'user_idx', 'movieId', 'movie_idx', 'rating', 'positive']].head())\n",
    "print(f\"\\nNumber of unique users: {len(user_mapping)}\")\n",
    "print(f\"Number of unique movies: {len(movie_mapping)}\")"
   ]
  },
  {
   "cell_type": "code",
   "execution_count": 12,
   "metadata": {},
   "outputs": [
    {
     "name": "stdout",
     "output_type": "stream",
     "text": [
      "\n",
      "All columns in our DataFrame:\n",
      "Index(['userId', 'movieId', 'rating', 'timestamp', 'user_idx', 'movie_idx',\n",
      "       'positive'],\n",
      "      dtype='object')\n",
      "\n",
      "Positive interactions (first 5):\n",
      "   user_idx  movie_idx\n",
      "0         0          0\n",
      "1         0          1\n",
      "2         0          2\n",
      "3         0          3\n",
      "4         0          4\n",
      "\n",
      "All ratings by user_idx 0:\n",
      "   movie_idx  rating\n",
      "0          0     4.0\n",
      "1          1     4.0\n",
      "2          2     4.0\n",
      "3          3     5.0\n",
      "4          4     5.0\n",
      "\n",
      "Dataset Statistics:\n",
      "Total ratings: 100836\n",
      "Positive ratings (≥4): 48580\n",
      "Average rating: 3.50\n"
     ]
    }
   ],
   "source": [
    "print(\"\\nAll columns in our DataFrame:\")\n",
    "print(ratings_df.columns)  \n",
    "\n",
    "positive_interactions = ratings_df[ratings_df['positive'] == 1]\n",
    "print(\"\\nPositive interactions (first 5):\")\n",
    "print(positive_interactions[['user_idx', 'movie_idx']].head())\n",
    "\n",
    "user0_ratings = ratings_df[ratings_df['user_idx'] == 0]\n",
    "print(\"\\nAll ratings by user_idx 0:\")\n",
    "print(user0_ratings[['movie_idx', 'rating']].head())\n",
    "\n",
    "print(\"\\nDataset Statistics:\")\n",
    "print(f\"Total ratings: {len(ratings_df)}\")\n",
    "print(f\"Positive ratings (≥4): {ratings_df['positive'].sum()}\")\n",
    "print(f\"Average rating: {ratings_df['rating'].mean():.2f}\")"
   ]
  },
  {
   "cell_type": "code",
   "execution_count": 13,
   "metadata": {},
   "outputs": [
    {
     "name": "stdout",
     "output_type": "stream",
     "text": [
      "tensor([[   0,    0,    0,  ...,  609,  609,  609],\n",
      "        [   0,    1,    2,  ..., 2035, 3121, 1392]])\n",
      "Edge index shape: torch.Size([2, 48580])\n",
      "Number of users: 610\n",
      "Number of movies: 9724\n",
      "tensor([[   0,    0,    0,  ...,  609,  609,  609],\n",
      "        [ 610,  611,  612,  ..., 2645, 3731, 2002]])\n",
      "\n",
      "After shifting movie indices:\n",
      "User index range: [0, 609]\n",
      "Movie index range: [610, 10333]\n"
     ]
    },
    {
     "name": "stderr",
     "output_type": "stream",
     "text": [
      "/tmp/ipykernel_362030/183322091.py:1: UserWarning: Creating a tensor from a list of numpy.ndarrays is extremely slow. Please consider converting the list to a single numpy.ndarray with numpy.array() before converting to a tensor. (Triggered internally at ../torch/csrc/utils/tensor_new.cpp:261.)\n",
      "  edge_index = torch.tensor([\n"
     ]
    }
   ],
   "source": [
    "\n",
    "edge_index = torch.tensor([\n",
    "    ratings_df[ratings_df['positive'] == 1]['user_idx'].values,      \n",
    "    ratings_df[ratings_df['positive'] == 1]['movie_idx'].values      \n",
    "], dtype=torch.long)\n",
    "\n",
    "num_users = len(user_mapping)         \n",
    "num_movies = len(movie_mapping)        \n",
    "embedding_dim = 64                     \n",
    "print(edge_index)\n",
    "print(f\"Edge index shape: {edge_index.shape}\")\n",
    "print(f\"Number of users: {num_users}\")\n",
    "print(f\"Number of movies: {num_movies}\")\n",
    "\n",
    "edge_index[1] += num_users # since we have been shifting the idxs, we have to make sure that node idxs and movies idxs don't overlap. Shift again accordingly\n",
    "print(edge_index)\n",
    "print(\"\\nAfter shifting movie indices:\")\n",
    "print(f\"User index range: [0, {num_users-1}]\")\n",
    "print(f\"Movie index range: [{num_users}, {num_users + num_movies-1}]\")"
   ]
  },
  {
   "cell_type": "code",
   "execution_count": 14,
   "metadata": {},
   "outputs": [],
   "source": [
    "# #example : \n",
    "# userId  movieId  rating\n",
    "# 1       50       4.5\n",
    "# 1       22       5.0\n",
    "# 2       50       4.0\n",
    "\n",
    "# edge_index = [\n",
    "#     [0,    0,    1],      # mapped user IDs\n",
    "#     [610,  611,  610]     # mapped movie IDs (shifted by num_users)\n",
    "# ]"
   ]
  },
  {
   "cell_type": "code",
   "execution_count": 15,
   "metadata": {},
   "outputs": [
    {
     "data": {
      "text/plain": [
       "10334"
      ]
     },
     "execution_count": 15,
     "metadata": {},
     "output_type": "execute_result"
    }
   ],
   "source": [
    "nodes = num_users + num_movies\n",
    "nodes"
   ]
  },
  {
   "cell_type": "code",
   "execution_count": 16,
   "metadata": {},
   "outputs": [
    {
     "data": {
      "text/plain": [
       "tensor([[   0,    0,    0,  ...,  609,  609,  609],\n",
       "        [ 610,  611,  612,  ..., 2645, 3731, 2002]])"
      ]
     },
     "execution_count": 16,
     "metadata": {},
     "output_type": "execute_result"
    }
   ],
   "source": [
    "edge_index"
   ]
  },
  {
   "cell_type": "code",
   "execution_count": 17,
   "metadata": {},
   "outputs": [],
   "source": [
    "data = data = Data(\n",
    "    edge_index=edge_index,\n",
    "    num_nodes=num_users + num_movies  # total number of nodes\n",
    ")"
   ]
  },
  {
   "cell_type": "code",
   "execution_count": null,
   "metadata": {},
   "outputs": [
    {
     "name": "stderr",
     "output_type": "stream",
     "text": [
      "/home/panafarmakis/anaconda3/envs/ML/lib/python3.9/site-packages/torch_geometric/deprecation.py:26: UserWarning: 'train_test_split_edges' is deprecated, use 'transforms.RandomLinkSplit' instead\n",
      "  warnings.warn(out)\n"
     ]
    }
   ],
   "source": [
    "\n",
    "data = train_test_split_edges(data, val_ratio=0.1, test_ratio=0.1)\n"
   ]
  },
  {
   "cell_type": "code",
   "execution_count": 19,
   "metadata": {},
   "outputs": [
    {
     "name": "stdout",
     "output_type": "stream",
     "text": [
      "Train edges: 77728\n",
      "Val edges: 4858\n",
      "Test edges: 4858\n"
     ]
    }
   ],
   "source": [
    "# use SparseTensor to build the adjacency matrix efficiently\n",
    "train_sparse = SparseTensor(\n",
    "    row=data.train_pos_edge_index[0],\n",
    "    col=data.train_pos_edge_index[1],\n",
    "    sparse_sizes=(num_users + num_movies, num_users + num_movies)\n",
    ")\n",
    "\n",
    "val_sparse = SparseTensor(\n",
    "    row=data.val_pos_edge_index[0],\n",
    "    col=data.val_pos_edge_index[1],\n",
    "    sparse_sizes=(num_users + num_movies, num_users + num_movies)\n",
    ")\n",
    "\n",
    "test_sparse = SparseTensor(\n",
    "    row=data.test_pos_edge_index[0],\n",
    "    col=data.test_pos_edge_index[1],\n",
    "    sparse_sizes=(num_users + num_movies, num_users + num_movies)\n",
    ")\n",
    "\n",
    "print(f\"Train edges: {data.train_pos_edge_index.shape[1]}\")\n",
    "print(f\"Val edges: {data.val_pos_edge_index.shape[1]}\")\n",
    "print(f\"Test edges: {data.test_pos_edge_index.shape[1]}\")\n"
   ]
  },
  {
   "cell_type": "code",
   "execution_count": 20,
   "metadata": {},
   "outputs": [
    {
     "data": {
      "text/plain": [
       "SparseTensor(row=tensor([    0,     0,     0,  ..., 10317, 10320, 10322]),\n",
       "             col=tensor([610, 611, 612,  ..., 609, 609, 609]),\n",
       "             size=(10334, 10334), nnz=77728, density=0.07%)"
      ]
     },
     "execution_count": 20,
     "metadata": {},
     "output_type": "execute_result"
    }
   ],
   "source": [
    "train_sparse"
   ]
  },
  {
   "cell_type": "code",
   "execution_count": 21,
   "metadata": {},
   "outputs": [],
   "source": [
    "torch.save({\n",
    "    'train_sparse': train_sparse,\n",
    "    'val_sparse': val_sparse,\n",
    "    'test_sparse': test_sparse\n",
    "}, 'sparse_tensors.pt')"
   ]
  }
 ],
 "metadata": {
  "kernelspec": {
   "display_name": "ML",
   "language": "python",
   "name": "python3"
  },
  "language_info": {
   "codemirror_mode": {
    "name": "ipython",
    "version": 3
   },
   "file_extension": ".py",
   "mimetype": "text/x-python",
   "name": "python",
   "nbconvert_exporter": "python",
   "pygments_lexer": "ipython3",
   "version": "3.9.20"
  }
 },
 "nbformat": 4,
 "nbformat_minor": 2
}
